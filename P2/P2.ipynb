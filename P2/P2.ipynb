{
 "cells": [
  {
   "cell_type": "code",
   "execution_count": 76,
   "metadata": {},
   "outputs": [],
   "source": [
    "import numpy as np\n",
    "from pandas.io.parsers import read_csv\n",
    "\n",
    "valores=read_csv(\"data2.csv\",header=None).to_numpy()\n",
    "\n",
    "X = valores[:,0:2]\n",
    "Y = valores[:,2]"
   ]
  },
  {
   "cell_type": "code",
   "execution_count": 79,
   "metadata": {},
   "outputs": [],
   "source": [
    "def normalizar(X):\n",
    "    media= np.mean(X, axis= 0) \n",
    "    desviacion=np.std(X, axis= 0) \n",
    "    X_norm=(X-media)/desviacion\n",
    "    return X_norm,media,desviacion\n",
    "\n",
    "X_norm, media, desv = normalizar(X)"
   ]
  },
  {
   "cell_type": "code",
   "execution_count": 80,
   "metadata": {},
   "outputs": [
    {
     "data": {
      "text/plain": [
       "array([ 3.67922869,  3.03817257,  4.05572196,  0.14753914,  7.47548108,\n",
       "        6.18446528,  2.95422474,  2.81812751,  2.75834648,  2.90334727,\n",
       "        6.12722813,  3.54694727,  3.40703422, 12.01200066,  2.61588957,\n",
       "        6.58512536,  0.02543321,  2.57518759,  6.97815381,  7.51491112,\n",
       "        3.250586  ,  0.74789328,  3.04326031,  6.15521074,  5.95090771,\n",
       "        2.40220419,  2.85755755,  4.21598599,  3.80133461,  4.35717097,\n",
       "        0.68556838, -3.03818362,  6.2544218 ,  4.99313934,  5.96314829,\n",
       "        2.83084688,  2.5790034 ,  6.37143998,  9.02088423,  6.40959809,\n",
       "        0.46297945,  3.84966821,  6.92473247,  2.52939787, -0.56983319,\n",
       "        6.0152977 ,  2.53321368])"
      ]
     },
     "execution_count": 80,
     "metadata": {},
     "output_type": "execute_result"
    }
   ],
   "source": [
    "def modelo_vectorizado(valores, w, b):\n",
    "    return np.dot(valores, w) + b\n",
    "\n",
    "w = np.array([1,2])\n",
    "modelo_vectorizado(X_norm, w, 4)"
   ]
  },
  {
   "cell_type": "code",
   "execution_count": 116,
   "metadata": {},
   "outputs": [],
   "source": [
    "def funcion_grad(X, Y, w, b):\n",
    "    return np.sum(np.dot(modelo_vectorizado(X, w, b) - Y,X)), np.sum(modelo_vectorizado(X, w, b) - Y)\n",
    "\n",
    "def gradiente_descendiente_vectorizado(X, Y, w, b, alpha, iteraciones):\n",
    "    m = len(X)\n",
    "    for i in range(iteraciones):\n",
    "        wa,ba = funcion_grad(X, Y, w, b)\n",
    "        w = w - alpha * (1/m) * wa\n",
    "        b = b - alpha * (1/m) * ba\n",
    "    return w, b"
   ]
  },
  {
   "cell_type": "code",
   "execution_count": 118,
   "metadata": {},
   "outputs": [
    {
     "data": {
      "text/plain": [
       "340412.563014392"
      ]
     },
     "execution_count": 118,
     "metadata": {},
     "output_type": "execute_result"
    }
   ],
   "source": [
    "waux = np.array([0,0])\n",
    "Xaux = np.array([1650,3])\n",
    "X_norm2, media, desv =  normalizar(Xaux)\n",
    "w, b = gradiente_descendiente_vectorizado(X_norm, Y, waux, 0, 0.01, 1500)\n",
    "modelo_vectorizado(X_norm2, w, b)"
   ]
  }
 ],
 "metadata": {
  "kernelspec": {
   "display_name": "Python 3",
   "language": "python",
   "name": "python3"
  },
  "language_info": {
   "codemirror_mode": {
    "name": "ipython",
    "version": 3
   },
   "file_extension": ".py",
   "mimetype": "text/x-python",
   "name": "python",
   "nbconvert_exporter": "python",
   "pygments_lexer": "ipython3",
   "version": "3.10.6"
  },
  "orig_nbformat": 4,
  "vscode": {
   "interpreter": {
    "hash": "916dbcbb3f70747c44a77c7bcd40155683ae19c65e1c03b4aa3499c5328201f1"
   }
  }
 },
 "nbformat": 4,
 "nbformat_minor": 2
}
