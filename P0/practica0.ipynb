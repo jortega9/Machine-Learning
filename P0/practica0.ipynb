{
 "cells": [
  {
   "attachments": {},
   "cell_type": "markdown",
   "metadata": {},
   "source": [
    "Practica 0 AAyBD\n",
    "Realizada por Daniela Vidal y Jorge Ortega"
   ]
  },
  {
   "cell_type": "code",
   "execution_count": 9,
   "metadata": {},
   "outputs": [],
   "source": [
    "import numpy as np\n",
    "import scipy\n"
   ]
  },
  {
   "cell_type": "code",
   "execution_count": 92,
   "metadata": {},
   "outputs": [],
   "source": [
    "def integra_mc_fast(fun, a, b, num_puntos=10000):\n",
    "    x = np.random.uniform(a, b, num_puntos)\n",
    "    fs = fun(x)\n",
    "\n",
    "    max_y = np.amax(fs)\n",
    "    y2 = np.random.uniform(0, max_y, num_puntos)\n",
    "\n",
    "    dentro = np.sum(y2 < fs)\n",
    "\n",
    "    return (b-a)*(dentro/num_puntos)*max_y\n",
    "\n"
   ]
  },
  {
   "cell_type": "code",
   "execution_count": 85,
   "metadata": {},
   "outputs": [],
   "source": [
    "def integra_mc(fun, a, b, num_puntos=10000):\n",
    "    x = np.random.uniform(a, b, num_puntos)\n",
    "    fs = fun(x)\n",
    "\n",
    "    max_y = max(fs)\n",
    "    y2 = np.random.uniform(0, max_y, num_puntos)\n",
    "\n",
    "    dentro = 0\n",
    "    for i in range(num_puntos):\n",
    "        if y2[i] < fs[i]:\n",
    "            dentro += 1\n",
    "\n",
    "    return (b-a)*(dentro/num_puntos)*max_y"
   ]
  },
  {
   "cell_type": "code",
   "execution_count": 81,
   "metadata": {},
   "outputs": [
    {
     "name": "stdout",
     "output_type": "stream",
     "text": [
      "416.3014421087252\n",
      "410.8394104895538\n"
     ]
    },
    {
     "data": {
      "text/plain": [
       "(413.33333333333337, 4.588921835117314e-12)"
      ]
     },
     "execution_count": 81,
     "metadata": {},
     "output_type": "execute_result"
    }
   ],
   "source": [
    "f = lambda x: x**2 + x +3\n",
    "\n",
    "print(integra_mc(f, 0, 10))\n",
    "print(integra_mc_fast(f, 0, 10))\n",
    "\n",
    "scipy.integrate.quad(f,0,10)\n",
    "\n"
   ]
  },
  {
   "cell_type": "code",
   "execution_count": 1,
   "metadata": {},
   "outputs": [],
   "source": [
    "import matplotlib.pyplot as plt\n",
    "import time\n",
    "\n",
    "def compara_tiempos_int(f, a, b):\n",
    "    sizes = np.linspace(100, 10000000, 20)\n",
    "    times_int = []\n",
    "    times_fast_int = []\n",
    "    for size in sizes:\n",
    "        tic = time.process_time()\n",
    "        inte = integra_mc(f, a, b, int(size))\n",
    "        toc = time.process_time()\n",
    "        times_int += [1000 * (toc - tic)]\n",
    "        \n",
    "        tic = time.process_time()\n",
    "        fast_int = integra_mc_fast(f, a, b, int(size))\n",
    "        toc = time.process_time()\n",
    "        times_fast_int += [1000 * (toc - tic)]\n",
    "\n",
    "    plt.figure()\n",
    "    plt.scatter(sizes, times_int, c='red', label='bucle')\n",
    "    plt.scatter(sizes, times_fast_int, c='blue', label='vector')\n",
    "    plt.legend()\n",
    "    plt.savefig('compara tiempos int.png')"
   ]
  },
  {
   "cell_type": "code",
   "execution_count": 94,
   "metadata": {},
   "outputs": [
    {
     "data": {
      "image/png": "[encoded data removed]",
      "text/plain": [
       "<Figure size 640x480 with 1 Axes>"
      ]
     },
     "metadata": {},
     "output_type": "display_data"
    }
   ],
   "source": [
    "f = lambda x: x**2 + x +3\n",
    "\n",
    "compara_tiempos_int(f, 0, 10)"
   ]
  }
 ],
 "metadata": {
  "kernelspec": {
   "display_name": "Python 3",
   "language": "python",
   "name": "python3"
  },
  "language_info": {
   "codemirror_mode": {
    "name": "ipython",
    "version": 3
   },
   "file_extension": ".py",
   "mimetype": "text/x-python",
   "name": "python",
   "nbconvert_exporter": "python",
   "pygments_lexer": "ipython3",
   "version": "3.10.6"
  },
  "orig_nbformat": 4,
  "vscode": {
   "interpreter": {
    "hash": "916dbcbb3f70747c44a77c7bcd40155683ae19c65e1c03b4aa3499c5328201f1"
   }
  }
 },
 "nbformat": 4,
 "nbformat_minor": 2
}
